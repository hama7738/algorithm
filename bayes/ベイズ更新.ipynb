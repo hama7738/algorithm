{
 "cells": [
  {
   "cell_type": "code",
   "execution_count": 1,
   "metadata": {},
   "outputs": [],
   "source": [
    "import matplotlib.pyplot as plt \n",
    "from scipy.stats import bernoulli\n",
    "import numpy as np \n",
    "import pandas as pd \n",
    "%matplotlib inline "
   ]
  },
  {
   "cell_type": "code",
   "execution_count": 2,
   "metadata": {},
   "outputs": [],
   "source": [
    "plt.style.use(\"ggplot\")"
   ]
  },
  {
   "cell_type": "code",
   "execution_count": 3,
   "metadata": {},
   "outputs": [],
   "source": [
    "p_a = 3.0 / 10.0\n",
    "p_b = 5.0 / 9.0 \n",
    "## ランダムに袋a,bを選ぶので\n",
    "p_prior = 0.5\n",
    "# 0: blue, 1:red \n",
    "data = [0,1,0,0,1,1,1]"
   ]
  },
  {
   "cell_type": "code",
   "execution_count": 16,
   "metadata": {},
   "outputs": [],
   "source": [
    "N_data = 7\n",
    "likehood_a = bernoulli.pmf(data[:N_data], p_a)\n",
    "likehood_b = bernoulli.pmf(data[:N_data], p_b)"
   ]
  },
  {
   "cell_type": "code",
   "execution_count": 17,
   "metadata": {},
   "outputs": [
    {
     "data": {
      "text/plain": [
       "array([0.7, 0.3, 0.7, 0.7, 0.3, 0.3, 0.3])"
      ]
     },
     "execution_count": 17,
     "metadata": {},
     "output_type": "execute_result"
    }
   ],
   "source": [
    "# N = 1の時のdataの0番目のあたいは青を示すので、確率は0.7, \n",
    "# N = 2とすれば、0.3となる\n",
    "likehood_a"
   ]
  },
  {
   "cell_type": "code",
   "execution_count": 18,
   "metadata": {},
   "outputs": [
    {
     "data": {
      "text/plain": [
       "([<matplotlib.axis.XTick at 0x1a25b52e10>,\n",
       "  <matplotlib.axis.XTick at 0x1a25ab8710>],\n",
       " <a list of 2 Text xticklabel objects>)"
      ]
     },
     "execution_count": 18,
     "metadata": {},
     "output_type": "execute_result"
    },
    {
     "data": {
      "image/png": "[encoded data removed]",
      "text/plain": [
       "<matplotlib.figure.Figure at 0x1a2380a630>"
      ]
     },
     "metadata": {},
     "output_type": "display_data"
    }
   ],
   "source": [
    "pa_posterior = p_prior \n",
    "pb_posterior = p_prior \n",
    "pa_posterior *= np.prod(likehood_a)\n",
    "pb_posterior *= np.prod(likehood_b)\n",
    "norm = pa_posterior + pb_posterior \n",
    "df = pd.DataFrame([pa_posterior/norm, pb_posterior/norm], columns=[\"post\"])\n",
    "x = np.arange(df.shape[0])\n",
    "plt.bar(x, df[\"post\"])\n",
    "plt.xticks(x, [\"a\", \"b\"])"
   ]
  },
  {
   "cell_type": "code",
   "execution_count": 15,
   "metadata": {},
   "outputs": [],
   "source": [
    "# N=4だと、青が多く出るので、青が多く出てくるんじゃないかという予想がされる。"
   ]
  },
  {
   "cell_type": "code",
   "execution_count": null,
   "metadata": {},
   "outputs": [],
   "source": []
  }
 ],
 "metadata": {
  "kernelspec": {
   "display_name": "Python 3",
   "language": "python",
   "name": "python3"
  },
  "language_info": {
   "codemirror_mode": {
    "name": "ipython",
    "version": 3
   },
   "file_extension": ".py",
   "mimetype": "text/x-python",
   "name": "python",
   "nbconvert_exporter": "python",
   "pygments_lexer": "ipython3",
   "version": "3.6.8"
  }
 },
 "nbformat": 4,
 "nbformat_minor": 2
}
